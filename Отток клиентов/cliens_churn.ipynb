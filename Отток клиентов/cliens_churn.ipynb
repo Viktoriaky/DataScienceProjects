{
 "cells": [
  {
   "cell_type": "markdown",
   "metadata": {},
   "source": [
    "# Отток клиентов"
   ]
  },
  {
   "cell_type": "markdown",
   "metadata": {},
   "source": [
    "Из «Бета-Банка» стали уходить клиенты. Каждый месяц. Немного, но заметно. Банковские маркетологи посчитали: сохранять текущих клиентов дешевле, чем привлекать новых.\n",
    "\n",
    "Нужно спрогнозировать, уйдёт клиент из банка в ближайшее время или нет. Предоставлены исторические данные о поведении клиентов и расторжении договоров с банком. \n",
    "\n",
    "Необходимо построить модель с предельно большим значением *F1*-меры, близким к 0.59. Проверить *F1*-меру на тестовой выборке.\n",
    "\n",
    "Дополнительно измерить *AUC-ROC*, сравнить её значение с *F1*-мерой.\n",
    "\n",
    "Источник данных: [https://www.kaggle.com/barelydedicated/bank-customer-churn-modeling](https://www.kaggle.com/barelydedicated/bank-customer-churn-modeling)"
   ]
  },
  {
   "cell_type": "markdown",
   "metadata": {},
   "source": [
    "\n",
    "В нашем распоряжении данные клиентов банка: имя клиента, возраст, пол, страна, рейтинг, сколько лет человек является клиентом банка, баланс на счёте, зарплата и др.<br>\n",
    "\n",
    "В рамках проекта предстоит:\n",
    "\n",
    "- подготовить данные\n",
    "- обработать пропущенные значения в столбцах\n",
    "- преобразовать категориальные признаки в численные\n",
    "- масштабировать численные признаки\n",
    "- построить разные модели и изучить их метрики с дисбалансом\n",
    "- построить разные модели и изучить их метрики, устранив дисбаланс\n",
    "- проверить модель на тестовой выборке "
   ]
  },
  {
   "cell_type": "markdown",
   "metadata": {},
   "source": [
    "В данных представлены следующие признаки:\n",
    "\n",
    "- RowNumber — индекс строки в данных\n",
    "- CustomerId — уникальный идентификатор клиента\n",
    "- Surname — фамилия\n",
    "- CreditScore — кредитный рейтинг\n",
    "- Geography — страна проживания\n",
    "- Gender — пол\n",
    "- Age — возраст\n",
    "- Tenure — сколько лет человек является клиентом банка\n",
    "- Balance — баланс на счёте\n",
    "- NumOfProducts — количество продуктов банка, используемых клиентом\n",
    "- HasCrCard — наличие кредитной карты\n",
    "- IsActiveMember — активность клиента\n",
    "- EstimatedSalary — предполагаемая зарплата\n",
    "\n",
    "Целевой признак - Exited — факт ухода клиента"
   ]
  },
  {
   "cell_type": "markdown",
   "metadata": {},
   "source": [
    "## Подготовка данных"
   ]
  },
  {
   "cell_type": "code",
   "execution_count": 1,
   "metadata": {},
   "outputs": [],
   "source": [
    "import pandas as pd\n",
    "import matplotlib.pyplot as plt\n",
    "from sklearn.ensemble import RandomForestClassifier\n",
    "from sklearn.linear_model import LogisticRegression\n",
    "from sklearn.model_selection import train_test_split\n",
    "from sklearn.metrics import f1_score, accuracy_score, classification_report, roc_auc_score, roc_curve\n",
    "from sklearn.preprocessing import StandardScaler, OneHotEncoder\n",
    "from sklearn.tree import DecisionTreeClassifier\n",
    "from sklearn.utils import shuffle\n",
    "\n",
    "RANDOM_STATE = 12345"
   ]
  },
  {
   "cell_type": "code",
   "execution_count": 2,
   "metadata": {},
   "outputs": [
    {
     "data": {
      "text/html": [
       "<div>\n",
       "<style scoped>\n",
       "    .dataframe tbody tr th:only-of-type {\n",
       "        vertical-align: middle;\n",
       "    }\n",
       "\n",
       "    .dataframe tbody tr th {\n",
       "        vertical-align: top;\n",
       "    }\n",
       "\n",
       "    .dataframe thead th {\n",
       "        text-align: right;\n",
       "    }\n",
       "</style>\n",
       "<table border=\"1\" class=\"dataframe\">\n",
       "  <thead>\n",
       "    <tr style=\"text-align: right;\">\n",
       "      <th></th>\n",
       "      <th>RowNumber</th>\n",
       "      <th>CustomerId</th>\n",
       "      <th>Surname</th>\n",
       "      <th>CreditScore</th>\n",
       "      <th>Geography</th>\n",
       "      <th>Gender</th>\n",
       "      <th>Age</th>\n",
       "      <th>Tenure</th>\n",
       "      <th>Balance</th>\n",
       "      <th>NumOfProducts</th>\n",
       "      <th>HasCrCard</th>\n",
       "      <th>IsActiveMember</th>\n",
       "      <th>EstimatedSalary</th>\n",
       "      <th>Exited</th>\n",
       "    </tr>\n",
       "  </thead>\n",
       "  <tbody>\n",
       "    <tr>\n",
       "      <th>0</th>\n",
       "      <td>1</td>\n",
       "      <td>15634602</td>\n",
       "      <td>Hargrave</td>\n",
       "      <td>619</td>\n",
       "      <td>France</td>\n",
       "      <td>Female</td>\n",
       "      <td>42</td>\n",
       "      <td>2.0</td>\n",
       "      <td>0.00</td>\n",
       "      <td>1</td>\n",
       "      <td>1</td>\n",
       "      <td>1</td>\n",
       "      <td>101348.88</td>\n",
       "      <td>1</td>\n",
       "    </tr>\n",
       "    <tr>\n",
       "      <th>1</th>\n",
       "      <td>2</td>\n",
       "      <td>15647311</td>\n",
       "      <td>Hill</td>\n",
       "      <td>608</td>\n",
       "      <td>Spain</td>\n",
       "      <td>Female</td>\n",
       "      <td>41</td>\n",
       "      <td>1.0</td>\n",
       "      <td>83807.86</td>\n",
       "      <td>1</td>\n",
       "      <td>0</td>\n",
       "      <td>1</td>\n",
       "      <td>112542.58</td>\n",
       "      <td>0</td>\n",
       "    </tr>\n",
       "    <tr>\n",
       "      <th>2</th>\n",
       "      <td>3</td>\n",
       "      <td>15619304</td>\n",
       "      <td>Onio</td>\n",
       "      <td>502</td>\n",
       "      <td>France</td>\n",
       "      <td>Female</td>\n",
       "      <td>42</td>\n",
       "      <td>8.0</td>\n",
       "      <td>159660.80</td>\n",
       "      <td>3</td>\n",
       "      <td>1</td>\n",
       "      <td>0</td>\n",
       "      <td>113931.57</td>\n",
       "      <td>1</td>\n",
       "    </tr>\n",
       "    <tr>\n",
       "      <th>3</th>\n",
       "      <td>4</td>\n",
       "      <td>15701354</td>\n",
       "      <td>Boni</td>\n",
       "      <td>699</td>\n",
       "      <td>France</td>\n",
       "      <td>Female</td>\n",
       "      <td>39</td>\n",
       "      <td>1.0</td>\n",
       "      <td>0.00</td>\n",
       "      <td>2</td>\n",
       "      <td>0</td>\n",
       "      <td>0</td>\n",
       "      <td>93826.63</td>\n",
       "      <td>0</td>\n",
       "    </tr>\n",
       "    <tr>\n",
       "      <th>4</th>\n",
       "      <td>5</td>\n",
       "      <td>15737888</td>\n",
       "      <td>Mitchell</td>\n",
       "      <td>850</td>\n",
       "      <td>Spain</td>\n",
       "      <td>Female</td>\n",
       "      <td>43</td>\n",
       "      <td>2.0</td>\n",
       "      <td>125510.82</td>\n",
       "      <td>1</td>\n",
       "      <td>1</td>\n",
       "      <td>1</td>\n",
       "      <td>79084.10</td>\n",
       "      <td>0</td>\n",
       "    </tr>\n",
       "  </tbody>\n",
       "</table>\n",
       "</div>"
      ],
      "text/plain": [
       "   RowNumber  CustomerId   Surname  CreditScore Geography  Gender  Age  \\\n",
       "0          1    15634602  Hargrave          619    France  Female   42   \n",
       "1          2    15647311      Hill          608     Spain  Female   41   \n",
       "2          3    15619304      Onio          502    France  Female   42   \n",
       "3          4    15701354      Boni          699    France  Female   39   \n",
       "4          5    15737888  Mitchell          850     Spain  Female   43   \n",
       "\n",
       "   Tenure    Balance  NumOfProducts  HasCrCard  IsActiveMember  \\\n",
       "0     2.0       0.00              1          1               1   \n",
       "1     1.0   83807.86              1          0               1   \n",
       "2     8.0  159660.80              3          1               0   \n",
       "3     1.0       0.00              2          0               0   \n",
       "4     2.0  125510.82              1          1               1   \n",
       "\n",
       "   EstimatedSalary  Exited  \n",
       "0        101348.88       1  \n",
       "1        112542.58       0  \n",
       "2        113931.57       1  \n",
       "3         93826.63       0  \n",
       "4         79084.10       0  "
      ]
     },
     "execution_count": 2,
     "metadata": {},
     "output_type": "execute_result"
    }
   ],
   "source": [
    "data_churn = pd.read_csv('/datasets/Churn.csv')\n",
    "data_churn.head()"
   ]
  },
  {
   "cell_type": "code",
   "execution_count": 3,
   "metadata": {},
   "outputs": [
    {
     "name": "stdout",
     "output_type": "stream",
     "text": [
      "<class 'pandas.core.frame.DataFrame'>\n",
      "RangeIndex: 10000 entries, 0 to 9999\n",
      "Data columns (total 14 columns):\n",
      " #   Column           Non-Null Count  Dtype  \n",
      "---  ------           --------------  -----  \n",
      " 0   RowNumber        10000 non-null  int64  \n",
      " 1   CustomerId       10000 non-null  int64  \n",
      " 2   Surname          10000 non-null  object \n",
      " 3   CreditScore      10000 non-null  int64  \n",
      " 4   Geography        10000 non-null  object \n",
      " 5   Gender           10000 non-null  object \n",
      " 6   Age              10000 non-null  int64  \n",
      " 7   Tenure           9091 non-null   float64\n",
      " 8   Balance          10000 non-null  float64\n",
      " 9   NumOfProducts    10000 non-null  int64  \n",
      " 10  HasCrCard        10000 non-null  int64  \n",
      " 11  IsActiveMember   10000 non-null  int64  \n",
      " 12  EstimatedSalary  10000 non-null  float64\n",
      " 13  Exited           10000 non-null  int64  \n",
      "dtypes: float64(3), int64(8), object(3)\n",
      "memory usage: 1.1+ MB\n"
     ]
    }
   ],
   "source": [
    "data_churn.info()"
   ]
  },
  {
   "cell_type": "markdown",
   "metadata": {},
   "source": [
    "В признаке \"Tenure\" есть пропущенные значения, проверим другие признаки, где \"Tenure\" nan:\n"
   ]
  },
  {
   "cell_type": "code",
   "execution_count": 4,
   "metadata": {},
   "outputs": [
    {
     "data": {
      "text/html": [
       "<div>\n",
       "<style scoped>\n",
       "    .dataframe tbody tr th:only-of-type {\n",
       "        vertical-align: middle;\n",
       "    }\n",
       "\n",
       "    .dataframe tbody tr th {\n",
       "        vertical-align: top;\n",
       "    }\n",
       "\n",
       "    .dataframe thead th {\n",
       "        text-align: right;\n",
       "    }\n",
       "</style>\n",
       "<table border=\"1\" class=\"dataframe\">\n",
       "  <thead>\n",
       "    <tr style=\"text-align: right;\">\n",
       "      <th></th>\n",
       "      <th>RowNumber</th>\n",
       "      <th>CustomerId</th>\n",
       "      <th>Surname</th>\n",
       "      <th>CreditScore</th>\n",
       "      <th>Geography</th>\n",
       "      <th>Gender</th>\n",
       "      <th>Age</th>\n",
       "      <th>Tenure</th>\n",
       "      <th>Balance</th>\n",
       "      <th>NumOfProducts</th>\n",
       "      <th>HasCrCard</th>\n",
       "      <th>IsActiveMember</th>\n",
       "      <th>EstimatedSalary</th>\n",
       "      <th>Exited</th>\n",
       "    </tr>\n",
       "  </thead>\n",
       "  <tbody>\n",
       "    <tr>\n",
       "      <th>30</th>\n",
       "      <td>31</td>\n",
       "      <td>15589475</td>\n",
       "      <td>Azikiwe</td>\n",
       "      <td>591</td>\n",
       "      <td>Spain</td>\n",
       "      <td>Female</td>\n",
       "      <td>39</td>\n",
       "      <td>NaN</td>\n",
       "      <td>0.00</td>\n",
       "      <td>3</td>\n",
       "      <td>1</td>\n",
       "      <td>0</td>\n",
       "      <td>140469.38</td>\n",
       "      <td>1</td>\n",
       "    </tr>\n",
       "    <tr>\n",
       "      <th>48</th>\n",
       "      <td>49</td>\n",
       "      <td>15766205</td>\n",
       "      <td>Yin</td>\n",
       "      <td>550</td>\n",
       "      <td>Germany</td>\n",
       "      <td>Male</td>\n",
       "      <td>38</td>\n",
       "      <td>NaN</td>\n",
       "      <td>103391.38</td>\n",
       "      <td>1</td>\n",
       "      <td>0</td>\n",
       "      <td>1</td>\n",
       "      <td>90878.13</td>\n",
       "      <td>0</td>\n",
       "    </tr>\n",
       "    <tr>\n",
       "      <th>51</th>\n",
       "      <td>52</td>\n",
       "      <td>15768193</td>\n",
       "      <td>Trevisani</td>\n",
       "      <td>585</td>\n",
       "      <td>Germany</td>\n",
       "      <td>Male</td>\n",
       "      <td>36</td>\n",
       "      <td>NaN</td>\n",
       "      <td>146050.97</td>\n",
       "      <td>2</td>\n",
       "      <td>0</td>\n",
       "      <td>0</td>\n",
       "      <td>86424.57</td>\n",
       "      <td>0</td>\n",
       "    </tr>\n",
       "    <tr>\n",
       "      <th>53</th>\n",
       "      <td>54</td>\n",
       "      <td>15702298</td>\n",
       "      <td>Parkhill</td>\n",
       "      <td>655</td>\n",
       "      <td>Germany</td>\n",
       "      <td>Male</td>\n",
       "      <td>41</td>\n",
       "      <td>NaN</td>\n",
       "      <td>125561.97</td>\n",
       "      <td>1</td>\n",
       "      <td>0</td>\n",
       "      <td>0</td>\n",
       "      <td>164040.94</td>\n",
       "      <td>1</td>\n",
       "    </tr>\n",
       "    <tr>\n",
       "      <th>60</th>\n",
       "      <td>61</td>\n",
       "      <td>15651280</td>\n",
       "      <td>Hunter</td>\n",
       "      <td>742</td>\n",
       "      <td>Germany</td>\n",
       "      <td>Male</td>\n",
       "      <td>35</td>\n",
       "      <td>NaN</td>\n",
       "      <td>136857.00</td>\n",
       "      <td>1</td>\n",
       "      <td>0</td>\n",
       "      <td>0</td>\n",
       "      <td>84509.57</td>\n",
       "      <td>0</td>\n",
       "    </tr>\n",
       "    <tr>\n",
       "      <th>...</th>\n",
       "      <td>...</td>\n",
       "      <td>...</td>\n",
       "      <td>...</td>\n",
       "      <td>...</td>\n",
       "      <td>...</td>\n",
       "      <td>...</td>\n",
       "      <td>...</td>\n",
       "      <td>...</td>\n",
       "      <td>...</td>\n",
       "      <td>...</td>\n",
       "      <td>...</td>\n",
       "      <td>...</td>\n",
       "      <td>...</td>\n",
       "      <td>...</td>\n",
       "    </tr>\n",
       "    <tr>\n",
       "      <th>9944</th>\n",
       "      <td>9945</td>\n",
       "      <td>15703923</td>\n",
       "      <td>Cameron</td>\n",
       "      <td>744</td>\n",
       "      <td>Germany</td>\n",
       "      <td>Male</td>\n",
       "      <td>41</td>\n",
       "      <td>NaN</td>\n",
       "      <td>190409.34</td>\n",
       "      <td>2</td>\n",
       "      <td>1</td>\n",
       "      <td>1</td>\n",
       "      <td>138361.48</td>\n",
       "      <td>0</td>\n",
       "    </tr>\n",
       "    <tr>\n",
       "      <th>9956</th>\n",
       "      <td>9957</td>\n",
       "      <td>15707861</td>\n",
       "      <td>Nucci</td>\n",
       "      <td>520</td>\n",
       "      <td>France</td>\n",
       "      <td>Female</td>\n",
       "      <td>46</td>\n",
       "      <td>NaN</td>\n",
       "      <td>85216.61</td>\n",
       "      <td>1</td>\n",
       "      <td>1</td>\n",
       "      <td>0</td>\n",
       "      <td>117369.52</td>\n",
       "      <td>1</td>\n",
       "    </tr>\n",
       "    <tr>\n",
       "      <th>9964</th>\n",
       "      <td>9965</td>\n",
       "      <td>15642785</td>\n",
       "      <td>Douglas</td>\n",
       "      <td>479</td>\n",
       "      <td>France</td>\n",
       "      <td>Male</td>\n",
       "      <td>34</td>\n",
       "      <td>NaN</td>\n",
       "      <td>117593.48</td>\n",
       "      <td>2</td>\n",
       "      <td>0</td>\n",
       "      <td>0</td>\n",
       "      <td>113308.29</td>\n",
       "      <td>0</td>\n",
       "    </tr>\n",
       "    <tr>\n",
       "      <th>9985</th>\n",
       "      <td>9986</td>\n",
       "      <td>15586914</td>\n",
       "      <td>Nepean</td>\n",
       "      <td>659</td>\n",
       "      <td>France</td>\n",
       "      <td>Male</td>\n",
       "      <td>36</td>\n",
       "      <td>NaN</td>\n",
       "      <td>123841.49</td>\n",
       "      <td>2</td>\n",
       "      <td>1</td>\n",
       "      <td>0</td>\n",
       "      <td>96833.00</td>\n",
       "      <td>0</td>\n",
       "    </tr>\n",
       "    <tr>\n",
       "      <th>9999</th>\n",
       "      <td>10000</td>\n",
       "      <td>15628319</td>\n",
       "      <td>Walker</td>\n",
       "      <td>792</td>\n",
       "      <td>France</td>\n",
       "      <td>Female</td>\n",
       "      <td>28</td>\n",
       "      <td>NaN</td>\n",
       "      <td>130142.79</td>\n",
       "      <td>1</td>\n",
       "      <td>1</td>\n",
       "      <td>0</td>\n",
       "      <td>38190.78</td>\n",
       "      <td>0</td>\n",
       "    </tr>\n",
       "  </tbody>\n",
       "</table>\n",
       "<p>909 rows × 14 columns</p>\n",
       "</div>"
      ],
      "text/plain": [
       "      RowNumber  CustomerId    Surname  CreditScore Geography  Gender  Age  \\\n",
       "30           31    15589475    Azikiwe          591     Spain  Female   39   \n",
       "48           49    15766205        Yin          550   Germany    Male   38   \n",
       "51           52    15768193  Trevisani          585   Germany    Male   36   \n",
       "53           54    15702298   Parkhill          655   Germany    Male   41   \n",
       "60           61    15651280     Hunter          742   Germany    Male   35   \n",
       "...         ...         ...        ...          ...       ...     ...  ...   \n",
       "9944       9945    15703923    Cameron          744   Germany    Male   41   \n",
       "9956       9957    15707861      Nucci          520    France  Female   46   \n",
       "9964       9965    15642785    Douglas          479    France    Male   34   \n",
       "9985       9986    15586914     Nepean          659    France    Male   36   \n",
       "9999      10000    15628319     Walker          792    France  Female   28   \n",
       "\n",
       "      Tenure    Balance  NumOfProducts  HasCrCard  IsActiveMember  \\\n",
       "30       NaN       0.00              3          1               0   \n",
       "48       NaN  103391.38              1          0               1   \n",
       "51       NaN  146050.97              2          0               0   \n",
       "53       NaN  125561.97              1          0               0   \n",
       "60       NaN  136857.00              1          0               0   \n",
       "...      ...        ...            ...        ...             ...   \n",
       "9944     NaN  190409.34              2          1               1   \n",
       "9956     NaN   85216.61              1          1               0   \n",
       "9964     NaN  117593.48              2          0               0   \n",
       "9985     NaN  123841.49              2          1               0   \n",
       "9999     NaN  130142.79              1          1               0   \n",
       "\n",
       "      EstimatedSalary  Exited  \n",
       "30          140469.38       1  \n",
       "48           90878.13       0  \n",
       "51           86424.57       0  \n",
       "53          164040.94       1  \n",
       "60           84509.57       0  \n",
       "...               ...     ...  \n",
       "9944        138361.48       0  \n",
       "9956        117369.52       1  \n",
       "9964        113308.29       0  \n",
       "9985         96833.00       0  \n",
       "9999         38190.78       0  \n",
       "\n",
       "[909 rows x 14 columns]"
      ]
     },
     "execution_count": 4,
     "metadata": {},
     "output_type": "execute_result"
    }
   ],
   "source": [
    "data_churn[pd.isnull(data_churn.Tenure)]"
   ]
  },
  {
   "cell_type": "markdown",
   "metadata": {},
   "source": [
    "Никаких аномалий не замечено, заполним их медианным значением:"
   ]
  },
  {
   "cell_type": "code",
   "execution_count": 5,
   "metadata": {},
   "outputs": [
    {
     "name": "stdout",
     "output_type": "stream",
     "text": [
      "<class 'pandas.core.frame.DataFrame'>\n",
      "RangeIndex: 10000 entries, 0 to 9999\n",
      "Data columns (total 14 columns):\n",
      " #   Column           Non-Null Count  Dtype  \n",
      "---  ------           --------------  -----  \n",
      " 0   RowNumber        10000 non-null  int64  \n",
      " 1   CustomerId       10000 non-null  int64  \n",
      " 2   Surname          10000 non-null  object \n",
      " 3   CreditScore      10000 non-null  int64  \n",
      " 4   Geography        10000 non-null  object \n",
      " 5   Gender           10000 non-null  object \n",
      " 6   Age              10000 non-null  int64  \n",
      " 7   Tenure           10000 non-null  float64\n",
      " 8   Balance          10000 non-null  float64\n",
      " 9   NumOfProducts    10000 non-null  int64  \n",
      " 10  HasCrCard        10000 non-null  int64  \n",
      " 11  IsActiveMember   10000 non-null  int64  \n",
      " 12  EstimatedSalary  10000 non-null  float64\n",
      " 13  Exited           10000 non-null  int64  \n",
      "dtypes: float64(3), int64(8), object(3)\n",
      "memory usage: 1.1+ MB\n"
     ]
    }
   ],
   "source": [
    "data_churn['Tenure'] = data_churn['Tenure'].fillna(data_churn['Tenure'].median())\n",
    "data_churn.info()"
   ]
  },
  {
   "cell_type": "code",
   "execution_count": 6,
   "metadata": {},
   "outputs": [
    {
     "data": {
      "text/html": [
       "<div>\n",
       "<style scoped>\n",
       "    .dataframe tbody tr th:only-of-type {\n",
       "        vertical-align: middle;\n",
       "    }\n",
       "\n",
       "    .dataframe tbody tr th {\n",
       "        vertical-align: top;\n",
       "    }\n",
       "\n",
       "    .dataframe thead th {\n",
       "        text-align: right;\n",
       "    }\n",
       "</style>\n",
       "<table border=\"1\" class=\"dataframe\">\n",
       "  <thead>\n",
       "    <tr style=\"text-align: right;\">\n",
       "      <th></th>\n",
       "      <th>RowNumber</th>\n",
       "      <th>CustomerId</th>\n",
       "      <th>CreditScore</th>\n",
       "      <th>Age</th>\n",
       "      <th>Tenure</th>\n",
       "      <th>Balance</th>\n",
       "      <th>NumOfProducts</th>\n",
       "      <th>HasCrCard</th>\n",
       "      <th>IsActiveMember</th>\n",
       "      <th>EstimatedSalary</th>\n",
       "      <th>Exited</th>\n",
       "    </tr>\n",
       "  </thead>\n",
       "  <tbody>\n",
       "    <tr>\n",
       "      <th>count</th>\n",
       "      <td>10000.00000</td>\n",
       "      <td>1.000000e+04</td>\n",
       "      <td>10000.000000</td>\n",
       "      <td>10000.000000</td>\n",
       "      <td>10000.00000</td>\n",
       "      <td>10000.000000</td>\n",
       "      <td>10000.000000</td>\n",
       "      <td>10000.00000</td>\n",
       "      <td>10000.000000</td>\n",
       "      <td>10000.000000</td>\n",
       "      <td>10000.000000</td>\n",
       "    </tr>\n",
       "    <tr>\n",
       "      <th>mean</th>\n",
       "      <td>5000.50000</td>\n",
       "      <td>1.569094e+07</td>\n",
       "      <td>650.528800</td>\n",
       "      <td>38.921800</td>\n",
       "      <td>4.99790</td>\n",
       "      <td>76485.889288</td>\n",
       "      <td>1.530200</td>\n",
       "      <td>0.70550</td>\n",
       "      <td>0.515100</td>\n",
       "      <td>100090.239881</td>\n",
       "      <td>0.203700</td>\n",
       "    </tr>\n",
       "    <tr>\n",
       "      <th>std</th>\n",
       "      <td>2886.89568</td>\n",
       "      <td>7.193619e+04</td>\n",
       "      <td>96.653299</td>\n",
       "      <td>10.487806</td>\n",
       "      <td>2.76001</td>\n",
       "      <td>62397.405202</td>\n",
       "      <td>0.581654</td>\n",
       "      <td>0.45584</td>\n",
       "      <td>0.499797</td>\n",
       "      <td>57510.492818</td>\n",
       "      <td>0.402769</td>\n",
       "    </tr>\n",
       "    <tr>\n",
       "      <th>min</th>\n",
       "      <td>1.00000</td>\n",
       "      <td>1.556570e+07</td>\n",
       "      <td>350.000000</td>\n",
       "      <td>18.000000</td>\n",
       "      <td>0.00000</td>\n",
       "      <td>0.000000</td>\n",
       "      <td>1.000000</td>\n",
       "      <td>0.00000</td>\n",
       "      <td>0.000000</td>\n",
       "      <td>11.580000</td>\n",
       "      <td>0.000000</td>\n",
       "    </tr>\n",
       "    <tr>\n",
       "      <th>25%</th>\n",
       "      <td>2500.75000</td>\n",
       "      <td>1.562853e+07</td>\n",
       "      <td>584.000000</td>\n",
       "      <td>32.000000</td>\n",
       "      <td>3.00000</td>\n",
       "      <td>0.000000</td>\n",
       "      <td>1.000000</td>\n",
       "      <td>0.00000</td>\n",
       "      <td>0.000000</td>\n",
       "      <td>51002.110000</td>\n",
       "      <td>0.000000</td>\n",
       "    </tr>\n",
       "    <tr>\n",
       "      <th>50%</th>\n",
       "      <td>5000.50000</td>\n",
       "      <td>1.569074e+07</td>\n",
       "      <td>652.000000</td>\n",
       "      <td>37.000000</td>\n",
       "      <td>5.00000</td>\n",
       "      <td>97198.540000</td>\n",
       "      <td>1.000000</td>\n",
       "      <td>1.00000</td>\n",
       "      <td>1.000000</td>\n",
       "      <td>100193.915000</td>\n",
       "      <td>0.000000</td>\n",
       "    </tr>\n",
       "    <tr>\n",
       "      <th>75%</th>\n",
       "      <td>7500.25000</td>\n",
       "      <td>1.575323e+07</td>\n",
       "      <td>718.000000</td>\n",
       "      <td>44.000000</td>\n",
       "      <td>7.00000</td>\n",
       "      <td>127644.240000</td>\n",
       "      <td>2.000000</td>\n",
       "      <td>1.00000</td>\n",
       "      <td>1.000000</td>\n",
       "      <td>149388.247500</td>\n",
       "      <td>0.000000</td>\n",
       "    </tr>\n",
       "    <tr>\n",
       "      <th>max</th>\n",
       "      <td>10000.00000</td>\n",
       "      <td>1.581569e+07</td>\n",
       "      <td>850.000000</td>\n",
       "      <td>92.000000</td>\n",
       "      <td>10.00000</td>\n",
       "      <td>250898.090000</td>\n",
       "      <td>4.000000</td>\n",
       "      <td>1.00000</td>\n",
       "      <td>1.000000</td>\n",
       "      <td>199992.480000</td>\n",
       "      <td>1.000000</td>\n",
       "    </tr>\n",
       "  </tbody>\n",
       "</table>\n",
       "</div>"
      ],
      "text/plain": [
       "         RowNumber    CustomerId   CreditScore           Age       Tenure  \\\n",
       "count  10000.00000  1.000000e+04  10000.000000  10000.000000  10000.00000   \n",
       "mean    5000.50000  1.569094e+07    650.528800     38.921800      4.99790   \n",
       "std     2886.89568  7.193619e+04     96.653299     10.487806      2.76001   \n",
       "min        1.00000  1.556570e+07    350.000000     18.000000      0.00000   \n",
       "25%     2500.75000  1.562853e+07    584.000000     32.000000      3.00000   \n",
       "50%     5000.50000  1.569074e+07    652.000000     37.000000      5.00000   \n",
       "75%     7500.25000  1.575323e+07    718.000000     44.000000      7.00000   \n",
       "max    10000.00000  1.581569e+07    850.000000     92.000000     10.00000   \n",
       "\n",
       "             Balance  NumOfProducts    HasCrCard  IsActiveMember  \\\n",
       "count   10000.000000   10000.000000  10000.00000    10000.000000   \n",
       "mean    76485.889288       1.530200      0.70550        0.515100   \n",
       "std     62397.405202       0.581654      0.45584        0.499797   \n",
       "min         0.000000       1.000000      0.00000        0.000000   \n",
       "25%         0.000000       1.000000      0.00000        0.000000   \n",
       "50%     97198.540000       1.000000      1.00000        1.000000   \n",
       "75%    127644.240000       2.000000      1.00000        1.000000   \n",
       "max    250898.090000       4.000000      1.00000        1.000000   \n",
       "\n",
       "       EstimatedSalary        Exited  \n",
       "count     10000.000000  10000.000000  \n",
       "mean     100090.239881      0.203700  \n",
       "std       57510.492818      0.402769  \n",
       "min          11.580000      0.000000  \n",
       "25%       51002.110000      0.000000  \n",
       "50%      100193.915000      0.000000  \n",
       "75%      149388.247500      0.000000  \n",
       "max      199992.480000      1.000000  "
      ]
     },
     "execution_count": 6,
     "metadata": {},
     "output_type": "execute_result"
    }
   ],
   "source": [
    "data_churn.describe()"
   ]
  },
  {
   "cell_type": "markdown",
   "metadata": {},
   "source": [
    "Преобразуем категориальные признаки в численные с помощью техники прямого кодирования:"
   ]
  },
  {
   "cell_type": "code",
   "execution_count": 7,
   "metadata": {},
   "outputs": [
    {
     "data": {
      "text/html": [
       "<div>\n",
       "<style scoped>\n",
       "    .dataframe tbody tr th:only-of-type {\n",
       "        vertical-align: middle;\n",
       "    }\n",
       "\n",
       "    .dataframe tbody tr th {\n",
       "        vertical-align: top;\n",
       "    }\n",
       "\n",
       "    .dataframe thead th {\n",
       "        text-align: right;\n",
       "    }\n",
       "</style>\n",
       "<table border=\"1\" class=\"dataframe\">\n",
       "  <thead>\n",
       "    <tr style=\"text-align: right;\">\n",
       "      <th></th>\n",
       "      <th>RowNumber</th>\n",
       "      <th>CustomerId</th>\n",
       "      <th>CreditScore</th>\n",
       "      <th>Age</th>\n",
       "      <th>Tenure</th>\n",
       "      <th>Balance</th>\n",
       "      <th>NumOfProducts</th>\n",
       "      <th>HasCrCard</th>\n",
       "      <th>IsActiveMember</th>\n",
       "      <th>EstimatedSalary</th>\n",
       "      <th>...</th>\n",
       "      <th>Surname_Zotova</th>\n",
       "      <th>Surname_Zox</th>\n",
       "      <th>Surname_Zubarev</th>\n",
       "      <th>Surname_Zubareva</th>\n",
       "      <th>Surname_Zuev</th>\n",
       "      <th>Surname_Zuyev</th>\n",
       "      <th>Surname_Zuyeva</th>\n",
       "      <th>Geography_Germany</th>\n",
       "      <th>Geography_Spain</th>\n",
       "      <th>Gender_Male</th>\n",
       "    </tr>\n",
       "  </thead>\n",
       "  <tbody>\n",
       "    <tr>\n",
       "      <th>2837</th>\n",
       "      <td>2838</td>\n",
       "      <td>15703059</td>\n",
       "      <td>549</td>\n",
       "      <td>49</td>\n",
       "      <td>6.0</td>\n",
       "      <td>124829.16</td>\n",
       "      <td>1</td>\n",
       "      <td>0</td>\n",
       "      <td>1</td>\n",
       "      <td>93551.36</td>\n",
       "      <td>...</td>\n",
       "      <td>0</td>\n",
       "      <td>0</td>\n",
       "      <td>0</td>\n",
       "      <td>0</td>\n",
       "      <td>0</td>\n",
       "      <td>0</td>\n",
       "      <td>0</td>\n",
       "      <td>1</td>\n",
       "      <td>0</td>\n",
       "      <td>0</td>\n",
       "    </tr>\n",
       "    <tr>\n",
       "      <th>9925</th>\n",
       "      <td>9926</td>\n",
       "      <td>15605672</td>\n",
       "      <td>694</td>\n",
       "      <td>38</td>\n",
       "      <td>5.0</td>\n",
       "      <td>195926.39</td>\n",
       "      <td>1</td>\n",
       "      <td>1</td>\n",
       "      <td>1</td>\n",
       "      <td>85522.84</td>\n",
       "      <td>...</td>\n",
       "      <td>0</td>\n",
       "      <td>0</td>\n",
       "      <td>0</td>\n",
       "      <td>0</td>\n",
       "      <td>0</td>\n",
       "      <td>0</td>\n",
       "      <td>0</td>\n",
       "      <td>0</td>\n",
       "      <td>0</td>\n",
       "      <td>0</td>\n",
       "    </tr>\n",
       "    <tr>\n",
       "      <th>8746</th>\n",
       "      <td>8747</td>\n",
       "      <td>15577905</td>\n",
       "      <td>660</td>\n",
       "      <td>34</td>\n",
       "      <td>8.0</td>\n",
       "      <td>106486.66</td>\n",
       "      <td>2</td>\n",
       "      <td>0</td>\n",
       "      <td>1</td>\n",
       "      <td>182262.66</td>\n",
       "      <td>...</td>\n",
       "      <td>0</td>\n",
       "      <td>0</td>\n",
       "      <td>0</td>\n",
       "      <td>0</td>\n",
       "      <td>0</td>\n",
       "      <td>0</td>\n",
       "      <td>0</td>\n",
       "      <td>0</td>\n",
       "      <td>0</td>\n",
       "      <td>1</td>\n",
       "    </tr>\n",
       "    <tr>\n",
       "      <th>660</th>\n",
       "      <td>661</td>\n",
       "      <td>15592937</td>\n",
       "      <td>632</td>\n",
       "      <td>41</td>\n",
       "      <td>5.0</td>\n",
       "      <td>81877.38</td>\n",
       "      <td>1</td>\n",
       "      <td>1</td>\n",
       "      <td>1</td>\n",
       "      <td>33642.21</td>\n",
       "      <td>...</td>\n",
       "      <td>0</td>\n",
       "      <td>0</td>\n",
       "      <td>0</td>\n",
       "      <td>0</td>\n",
       "      <td>0</td>\n",
       "      <td>0</td>\n",
       "      <td>0</td>\n",
       "      <td>1</td>\n",
       "      <td>0</td>\n",
       "      <td>0</td>\n",
       "    </tr>\n",
       "    <tr>\n",
       "      <th>3610</th>\n",
       "      <td>3611</td>\n",
       "      <td>15711716</td>\n",
       "      <td>580</td>\n",
       "      <td>56</td>\n",
       "      <td>1.0</td>\n",
       "      <td>131368.30</td>\n",
       "      <td>1</td>\n",
       "      <td>1</td>\n",
       "      <td>0</td>\n",
       "      <td>106918.67</td>\n",
       "      <td>...</td>\n",
       "      <td>0</td>\n",
       "      <td>0</td>\n",
       "      <td>0</td>\n",
       "      <td>0</td>\n",
       "      <td>0</td>\n",
       "      <td>0</td>\n",
       "      <td>0</td>\n",
       "      <td>0</td>\n",
       "      <td>0</td>\n",
       "      <td>0</td>\n",
       "    </tr>\n",
       "  </tbody>\n",
       "</table>\n",
       "<p>5 rows × 2944 columns</p>\n",
       "</div>"
      ],
      "text/plain": [
       "      RowNumber  CustomerId  CreditScore  Age  Tenure    Balance  \\\n",
       "2837       2838    15703059          549   49     6.0  124829.16   \n",
       "9925       9926    15605672          694   38     5.0  195926.39   \n",
       "8746       8747    15577905          660   34     8.0  106486.66   \n",
       "660         661    15592937          632   41     5.0   81877.38   \n",
       "3610       3611    15711716          580   56     1.0  131368.30   \n",
       "\n",
       "      NumOfProducts  HasCrCard  IsActiveMember  EstimatedSalary  ...  \\\n",
       "2837              1          0               1         93551.36  ...   \n",
       "9925              1          1               1         85522.84  ...   \n",
       "8746              2          0               1        182262.66  ...   \n",
       "660               1          1               1         33642.21  ...   \n",
       "3610              1          1               0        106918.67  ...   \n",
       "\n",
       "      Surname_Zotova  Surname_Zox  Surname_Zubarev  Surname_Zubareva  \\\n",
       "2837               0            0                0                 0   \n",
       "9925               0            0                0                 0   \n",
       "8746               0            0                0                 0   \n",
       "660                0            0                0                 0   \n",
       "3610               0            0                0                 0   \n",
       "\n",
       "      Surname_Zuev  Surname_Zuyev  Surname_Zuyeva  Geography_Germany  \\\n",
       "2837             0              0               0                  1   \n",
       "9925             0              0               0                  0   \n",
       "8746             0              0               0                  0   \n",
       "660              0              0               0                  1   \n",
       "3610             0              0               0                  0   \n",
       "\n",
       "      Geography_Spain  Gender_Male  \n",
       "2837                0            0  \n",
       "9925                0            0  \n",
       "8746                0            1  \n",
       "660                 0            0  \n",
       "3610                0            0  \n",
       "\n",
       "[5 rows x 2944 columns]"
      ]
     },
     "execution_count": 7,
     "metadata": {},
     "output_type": "execute_result"
    }
   ],
   "source": [
    "data_churn_ohe = pd.get_dummies(data_churn, drop_first=True)\n",
    "\n",
    "features = data_churn_ohe.drop('Exited', axis=1)\n",
    "target = data_churn_ohe['Exited']\n",
    "\n",
    "features_train, features_valid_test, target_train, target_valid_test= train_test_split(features, target, test_size=0.4, random_state=RANDOM_STATE, stratify=target)\n",
    "features_valid, features_test, target_valid, target_test = train_test_split(features_valid_test, target_valid_test, test_size=0.5, random_state=RANDOM_STATE, stratify=target_valid_test)\n",
    "\n",
    "features_train.head()"
   ]
  },
  {
   "cell_type": "code",
   "execution_count": null,
   "metadata": {},
   "outputs": [],
   "source": [
    "# промасштабируем численные признаки\n",
    "numeric = ['CreditScore', 'Balance', 'EstimatedSalary', 'Age']\n",
    "\n",
    "scaler = StandardScaler()\n",
    "scaler.fit(features_train[numeric])\n",
    "features_train[numeric] = scaler.transform(features_train[numeric])\n",
    "features_valid[numeric] = scaler.transform(features_valid[numeric])\n",
    "features_test[numeric] = scaler.transform(features_test[numeric])"
   ]
  },
  {
   "cell_type": "markdown",
   "metadata": {},
   "source": [
    "**Выводы:** \n",
    "Изучены данные по клиентам банка. В столбеце \"Tenure\" устранены пропущенные значения. Преобразованы категориальные признаки в численные с помощью техники прямого кодирования. Промасштабированы численные признаки."
   ]
  },
  {
   "cell_type": "markdown",
   "metadata": {},
   "source": [
    "## Исследование задачи"
   ]
  },
  {
   "cell_type": "markdown",
   "metadata": {},
   "source": [
    "Посмотрим, какие метрики выдают разные модели без дополнительных установок."
   ]
  },
  {
   "cell_type": "markdown",
   "metadata": {},
   "source": [
    "Модель логистической регрессии:"
   ]
  },
  {
   "cell_type": "code",
   "execution_count": null,
   "metadata": {},
   "outputs": [],
   "source": [
    "model = LogisticRegression(random_state=RANDOM_STATE, solver='liblinear')\n",
    "model.fit(features_train, target_train)\n",
    "predicted_valid = model.predict(features_valid)\n",
    "\n",
    "report = classification_report(target_valid, predicted_valid)\n",
    "print(report)"
   ]
  },
  {
   "cell_type": "markdown",
   "metadata": {},
   "source": [
    "               precision    recall  f1-score   support\n",
    "\n",
    "           0       0.80      1.00      0.89      1592\n",
    "           1       0.00      0.00      0.00       408\n",
    "\n",
    "    accuracy                           0.80      2000\n",
    "    "
   ]
  },
  {
   "cell_type": "code",
   "execution_count": 12,
   "metadata": {},
   "outputs": [
    {
     "name": "stdout",
     "output_type": "stream",
     "text": [
      "0.5200281431668143\n"
     ]
    }
   ],
   "source": [
    "#посчитаем площадь под ROC-кривой\n",
    "probabilities_valid = model.predict_proba(features_valid)\n",
    "probabilities_one_valid = probabilities_valid[:, 1]\n",
    "\n",
    "auc_roc = roc_auc_score(target_valid, probabilities_one_valid)\n",
    "print(auc_roc)"
   ]
  },
  {
   "cell_type": "markdown",
   "metadata": {},
   "source": [
    "Придадим объектам класса \"1\" больший вес:"
   ]
  },
  {
   "cell_type": "code",
   "execution_count": 13,
   "metadata": {},
   "outputs": [
    {
     "name": "stdout",
     "output_type": "stream",
     "text": [
      "              precision    recall  f1-score   support\n",
      "\n",
      "           0       0.90      0.69      0.78      1592\n",
      "           1       0.37      0.71      0.49       408\n",
      "\n",
      "    accuracy                           0.69      2000\n",
      "   macro avg       0.64      0.70      0.63      2000\n",
      "weighted avg       0.79      0.69      0.72      2000\n",
      "\n"
     ]
    }
   ],
   "source": [
    "model = LogisticRegression(random_state=RANDOM_STATE, solver='liblinear', class_weight='balanced')\n",
    "model.fit(features_train, target_train)\n",
    "predicted_valid = model.predict(features_valid)\n",
    "\n",
    "report = classification_report(target_valid, predicted_valid)\n",
    "print(report)"
   ]
  },
  {
   "cell_type": "code",
   "execution_count": 14,
   "metadata": {},
   "outputs": [
    {
     "name": "stdout",
     "output_type": "stream",
     "text": [
      "0.7570280939008771\n"
     ]
    }
   ],
   "source": [
    "#посчитаем площадь под ROC-кривой\n",
    "probabilities_valid = model.predict_proba(features_valid)\n",
    "probabilities_one_valid = probabilities_valid[:, 1]\n",
    "\n",
    "auc_roc = roc_auc_score(target_valid, probabilities_one_valid)\n",
    "print(auc_roc)"
   ]
  },
  {
   "cell_type": "markdown",
   "metadata": {},
   "source": [
    "Модель дерева решений:"
   ]
  },
  {
   "cell_type": "code",
   "execution_count": 15,
   "metadata": {},
   "outputs": [
    {
     "name": "stdout",
     "output_type": "stream",
     "text": [
      "              precision    recall  f1-score   support\n",
      "\n",
      "           0       0.88      0.90      0.89      1592\n",
      "           1       0.57      0.53      0.55       408\n",
      "\n",
      "    accuracy                           0.82      2000\n",
      "   macro avg       0.72      0.71      0.72      2000\n",
      "weighted avg       0.82      0.82      0.82      2000\n",
      "\n"
     ]
    }
   ],
   "source": [
    "model = DecisionTreeClassifier(random_state=RANDOM_STATE)\n",
    "model.fit(features_train, target_train)\n",
    "predicted_valid = model.predict(features_valid) \n",
    "\n",
    "report = classification_report(target_valid, predicted_valid)\n",
    "print(report)"
   ]
  },
  {
   "cell_type": "code",
   "execution_count": 16,
   "metadata": {},
   "outputs": [
    {
     "name": "stdout",
     "output_type": "stream",
     "text": [
      "0.7131983446644989\n"
     ]
    }
   ],
   "source": [
    "#посчитаем площадь под ROC-кривой\n",
    "probabilities_valid = model.predict_proba(features_valid)\n",
    "probabilities_one_valid = probabilities_valid[:, 1]\n",
    "\n",
    "auc_roc = roc_auc_score(target_valid, probabilities_one_valid)\n",
    "print(auc_roc)"
   ]
  },
  {
   "cell_type": "markdown",
   "metadata": {},
   "source": [
    "Придадим объектам класса \"1\" больший вес:"
   ]
  },
  {
   "cell_type": "code",
   "execution_count": 17,
   "metadata": {},
   "outputs": [
    {
     "name": "stdout",
     "output_type": "stream",
     "text": [
      "              precision    recall  f1-score   support\n",
      "\n",
      "           0       0.89      0.89      0.89      1592\n",
      "           1       0.56      0.57      0.57       408\n",
      "\n",
      "    accuracy                           0.82      2000\n",
      "   macro avg       0.73      0.73      0.73      2000\n",
      "weighted avg       0.82      0.82      0.82      2000\n",
      "\n"
     ]
    }
   ],
   "source": [
    "model = DecisionTreeClassifier(random_state=RANDOM_STATE, class_weight='balanced')\n",
    "model.fit(features_train, target_train)\n",
    "predicted_valid = model.predict(features_valid) \n",
    "\n",
    "report = classification_report(target_valid, predicted_valid)\n",
    "print(report)"
   ]
  },
  {
   "cell_type": "code",
   "execution_count": 18,
   "metadata": {},
   "outputs": [
    {
     "name": "stdout",
     "output_type": "stream",
     "text": [
      "0.7299179722140112\n"
     ]
    }
   ],
   "source": [
    "#посчитаем площадь под ROC-кривой\n",
    "probabilities_valid = model.predict_proba(features_valid)\n",
    "probabilities_one_valid = probabilities_valid[:, 1]\n",
    "\n",
    "auc_roc = roc_auc_score(target_valid, probabilities_one_valid)\n",
    "print(auc_roc)"
   ]
  },
  {
   "cell_type": "markdown",
   "metadata": {},
   "source": [
    "Попробуем подобрать гиперпараметры для модели дерева решений:"
   ]
  },
  {
   "cell_type": "code",
   "execution_count": 19,
   "metadata": {},
   "outputs": [],
   "source": [
    "# best_model = None\n",
    "# best_result = 0.57\n",
    "# best_depth = 0\n",
    "\n",
    "\n",
    "# for depth in range (1, 12):\n",
    "#     model = DecisionTreeClassifier(random_state=RANDOM_STATE, max_depth=depth, class_weight='balanced')\n",
    "#     model.fit(features_train, target_train)\n",
    "#     predicted_valid = model.predict(features_valid) \n",
    "#     result = f1_score(target_valid, predicted_valid) \n",
    "#     if result > best_result:\n",
    "#         best_model = model\n",
    "#         best_result = result\n",
    "#         best_depth = depth\n",
    "# \n",
    "# print(\"F1 наилучшей модели на валидационной выборке:\", best_result, \"Максимальная глубина:\", best_depth)"
   ]
  },
  {
   "cell_type": "code",
   "execution_count": 20,
   "metadata": {},
   "outputs": [
    {
     "name": "stdout",
     "output_type": "stream",
     "text": [
      "              precision    recall  f1-score   support\n",
      "\n",
      "           0       0.91      0.83      0.87      1592\n",
      "           1       0.50      0.68      0.58       408\n",
      "\n",
      "    accuracy                           0.80      2000\n",
      "   macro avg       0.71      0.75      0.72      2000\n",
      "weighted avg       0.83      0.80      0.81      2000\n",
      "\n"
     ]
    }
   ],
   "source": [
    "model = DecisionTreeClassifier(max_depth=11, random_state=RANDOM_STATE, class_weight='balanced')\n",
    "model.fit(features_train, target_train)\n",
    "predicted_valid = model.predict(features_valid) \n",
    "\n",
    "report = classification_report(target_valid, predicted_valid)\n",
    "print(report)"
   ]
  },
  {
   "cell_type": "markdown",
   "metadata": {},
   "source": [
    "Модель случайного леса:"
   ]
  },
  {
   "cell_type": "code",
   "execution_count": 21,
   "metadata": {},
   "outputs": [
    {
     "name": "stdout",
     "output_type": "stream",
     "text": [
      "              precision    recall  f1-score   support\n",
      "\n",
      "           0       0.86      0.98      0.92      1592\n",
      "           1       0.85      0.39      0.53       408\n",
      "\n",
      "    accuracy                           0.86      2000\n",
      "   macro avg       0.86      0.69      0.73      2000\n",
      "weighted avg       0.86      0.86      0.84      2000\n",
      "\n"
     ]
    }
   ],
   "source": [
    "model = RandomForestClassifier(random_state=RANDOM_STATE)\n",
    "model.fit(features_train, target_train)\n",
    "predicted_valid = model.predict(features_valid) \n",
    "\n",
    "report = classification_report(target_valid, predicted_valid)\n",
    "print(report)"
   ]
  },
  {
   "cell_type": "code",
   "execution_count": 22,
   "metadata": {},
   "outputs": [
    {
     "name": "stdout",
     "output_type": "stream",
     "text": [
      "0.8452387550497584\n"
     ]
    }
   ],
   "source": [
    "#посчитаем площадь под ROC-кривой\n",
    "probabilities_valid = model.predict_proba(features_valid)\n",
    "probabilities_one_valid = probabilities_valid[:, 1]\n",
    "\n",
    "auc_roc = roc_auc_score(target_valid, probabilities_one_valid)\n",
    "print(auc_roc)"
   ]
  },
  {
   "cell_type": "markdown",
   "metadata": {},
   "source": [
    "Придадим объектам класса \"1\" больший вес:"
   ]
  },
  {
   "cell_type": "code",
   "execution_count": 23,
   "metadata": {},
   "outputs": [
    {
     "name": "stdout",
     "output_type": "stream",
     "text": [
      "              precision    recall  f1-score   support\n",
      "\n",
      "           0       0.85      0.98      0.91      1592\n",
      "           1       0.85      0.34      0.49       408\n",
      "\n",
      "    accuracy                           0.85      2000\n",
      "   macro avg       0.85      0.66      0.70      2000\n",
      "weighted avg       0.85      0.85      0.83      2000\n",
      "\n"
     ]
    }
   ],
   "source": [
    "model = RandomForestClassifier(random_state=RANDOM_STATE, class_weight='balanced')\n",
    "model.fit(features_train, target_train)\n",
    "predicted_valid = model.predict(features_valid) \n",
    "\n",
    "report = classification_report(target_valid, predicted_valid)\n",
    "print(report)"
   ]
  },
  {
   "cell_type": "code",
   "execution_count": 24,
   "metadata": {},
   "outputs": [
    {
     "name": "stdout",
     "output_type": "stream",
     "text": [
      "0.8539357325844911\n"
     ]
    }
   ],
   "source": [
    "#посчитаем площадь под ROC-кривой\n",
    "probabilities_valid = model.predict_proba(features_valid)\n",
    "probabilities_one_valid = probabilities_valid[:, 1]\n",
    "\n",
    "auc_roc = roc_auc_score(target_valid, probabilities_one_valid)\n",
    "print(auc_roc)"
   ]
  },
  {
   "cell_type": "markdown",
   "metadata": {},
   "source": [
    "Попробуем подобрать гиперпараметры для модели случайного леса:"
   ]
  },
  {
   "cell_type": "code",
   "execution_count": 25,
   "metadata": {},
   "outputs": [],
   "source": [
    "# best_model = None\n",
    "# best_result = 0.59\n",
    "# best_est = 0\n",
    "# best_depth = 0\n",
    "\n",
    "# for est in range(1, 100):\n",
    "#     for depth in range (1, 30):\n",
    "#         model = RandomForestClassifier(n_estimators=est, max_depth=depth, random_state=RANDOM_STATE, class_weight='balanced')\n",
    "#         model.fit(features_train, target_train)\n",
    "#         predicted_valid = model.predict(features_valid)\n",
    "#         result = f1_score(target_valid, predicted_valid) \n",
    "#         if result > best_result:\n",
    "#             best_model = model\n",
    "#             best_result = result\n",
    "#             best_est = est\n",
    "#             best_depth = depth\n",
    "# print(\"F1 наилучшей модели на валидационной выборке:\", best_result, \"Количество деревьев:\", best_est, \"Максимальная глубина:\", best_depth)"
   ]
  },
  {
   "cell_type": "code",
   "execution_count": 26,
   "metadata": {},
   "outputs": [
    {
     "name": "stdout",
     "output_type": "stream",
     "text": [
      "              precision    recall  f1-score   support\n",
      "\n",
      "           0       0.91      0.86      0.88      1592\n",
      "           1       0.54      0.67      0.60       408\n",
      "\n",
      "    accuracy                           0.82      2000\n",
      "   macro avg       0.73      0.76      0.74      2000\n",
      "weighted avg       0.84      0.82      0.83      2000\n",
      "\n"
     ]
    }
   ],
   "source": [
    "model = RandomForestClassifier(n_estimators=64, max_depth=27, random_state=RANDOM_STATE, class_weight='balanced')\n",
    "model.fit(features_train, target_train)\n",
    "predicted_valid = model.predict(features_valid) \n",
    "\n",
    "report = classification_report(target_valid, predicted_valid)\n",
    "print(report)"
   ]
  },
  {
   "cell_type": "markdown",
   "metadata": {},
   "source": [
    "**Выводы:**\n",
    " По результатам исследования лучший результат по F1=0.57 после взвешивания классов показала модель алгоритма DecisionTreeClassifier (до взвешивания F1=0.57, AUC-ROC=0.73). Модель логистической регрессии показала после взвешивания классов F1=0.51, AUC-ROC=0.53. Случайный лес дал результат F1=0.53, AUC-ROC=0.85. После подбора гиперпараметров модель случайного леса показала наилучший результат F1=0.62."
   ]
  },
  {
   "cell_type": "markdown",
   "metadata": {},
   "source": [
    "## Борьба с дисбалансом"
   ]
  },
  {
   "cell_type": "code",
   "execution_count": 27,
   "metadata": {
    "scrolled": true
   },
   "outputs": [
    {
     "data": {
      "text/plain": [
       "0    7963\n",
       "1    2037\n",
       "Name: Exited, dtype: int64"
      ]
     },
     "execution_count": 27,
     "metadata": {},
     "output_type": "execute_result"
    }
   ],
   "source": [
    "data_churn['Exited'].value_counts()"
   ]
  },
  {
   "cell_type": "code",
   "execution_count": 28,
   "metadata": {},
   "outputs": [
    {
     "data": {
      "image/png": "[encoded data removed]",
      "text/plain": [
       "<Figure size 720x360 with 1 Axes>"
      ]
     },
     "metadata": {},
     "output_type": "display_data"
    }
   ],
   "source": [
    "data_churn['Exited'].value_counts().plot(kind='pie', figsize=(10,5), autopct='%1.1f%%')\n",
    "plt.title('Дисбаланс классов', fontsize=20)\n",
    "plt.ylabel('');"
   ]
  },
  {
   "cell_type": "markdown",
   "metadata": {},
   "source": [
    "Увеличим выборку для класса \"1\" техникой upsampling, в качестве коэффициента увеличения возьмем значение 4 (так как разница между классами отличается примерно в 4 раза):"
   ]
  },
  {
   "cell_type": "code",
   "execution_count": 29,
   "metadata": {},
   "outputs": [],
   "source": [
    "def upsample(features, target, repeat):\n",
    "    features_zeros = features[target == 0]\n",
    "    features_ones = features[target == 1]\n",
    "    target_zeros = target[target == 0]\n",
    "    target_ones = target[target == 1]\n",
    "\n",
    "    features_upsampled = pd.concat([features_zeros] + [features_ones] * repeat)\n",
    "    target_upsampled = pd.concat([target_zeros] + [target_ones] * repeat)\n",
    "    \n",
    "    features_upsampled, target_upsampled = shuffle(\n",
    "        features_upsampled, target_upsampled, random_state=RANDOM_STATE)\n",
    "    \n",
    "    return features_upsampled, target_upsampled\n",
    "\n",
    "features_upsampled, target_upsampled = upsample(features_train, target_train, 4)"
   ]
  },
  {
   "cell_type": "markdown",
   "metadata": {},
   "source": [
    "Используем новую выборку для обучения алгоритмом логистической регрессии:"
   ]
  },
  {
   "cell_type": "code",
   "execution_count": 30,
   "metadata": {},
   "outputs": [
    {
     "name": "stdout",
     "output_type": "stream",
     "text": [
      "              precision    recall  f1-score   support\n",
      "\n",
      "           0       0.00      0.00      0.00      1592\n",
      "           1       0.20      1.00      0.34       408\n",
      "\n",
      "    accuracy                           0.20      2000\n",
      "   macro avg       0.10      0.50      0.17      2000\n",
      "weighted avg       0.04      0.20      0.07      2000\n",
      "\n"
     ]
    },
    {
     "name": "stderr",
     "output_type": "stream",
     "text": [
      "/opt/conda/lib/python3.9/site-packages/sklearn/metrics/_classification.py:1245: UndefinedMetricWarning: Precision and F-score are ill-defined and being set to 0.0 in labels with no predicted samples. Use `zero_division` parameter to control this behavior.\n",
      "  _warn_prf(average, modifier, msg_start, len(result))\n",
      "/opt/conda/lib/python3.9/site-packages/sklearn/metrics/_classification.py:1245: UndefinedMetricWarning: Precision and F-score are ill-defined and being set to 0.0 in labels with no predicted samples. Use `zero_division` parameter to control this behavior.\n",
      "  _warn_prf(average, modifier, msg_start, len(result))\n",
      "/opt/conda/lib/python3.9/site-packages/sklearn/metrics/_classification.py:1245: UndefinedMetricWarning: Precision and F-score are ill-defined and being set to 0.0 in labels with no predicted samples. Use `zero_division` parameter to control this behavior.\n",
      "  _warn_prf(average, modifier, msg_start, len(result))\n"
     ]
    }
   ],
   "source": [
    "model = LogisticRegression(random_state=RANDOM_STATE, solver='liblinear')\n",
    "model.fit(features_upsampled, target_upsampled)\n",
    "predicted_valid = model.predict(features_valid)\n",
    "\n",
    "report = classification_report(target_valid, predicted_valid)\n",
    "print(report)"
   ]
  },
  {
   "cell_type": "code",
   "execution_count": 31,
   "metadata": {},
   "outputs": [
    {
     "name": "stdout",
     "output_type": "stream",
     "text": [
      "0.47997185683318555\n"
     ]
    }
   ],
   "source": [
    "#посчитаем площадь под ROC-кривой\n",
    "probabilities_valid = model.predict_proba(features_valid)\n",
    "probabilities_one_valid = probabilities_valid[:, 1]\n",
    "\n",
    "auc_roc = roc_auc_score(target_valid, probabilities_one_valid)\n",
    "print(auc_roc)"
   ]
  },
  {
   "cell_type": "markdown",
   "metadata": {},
   "source": [
    "Используем новую выборку для обучения алгоритмом дерева решений:"
   ]
  },
  {
   "cell_type": "code",
   "execution_count": 32,
   "metadata": {},
   "outputs": [
    {
     "name": "stdout",
     "output_type": "stream",
     "text": [
      "              precision    recall  f1-score   support\n",
      "\n",
      "           0       0.89      0.87      0.88      1592\n",
      "           1       0.54      0.58      0.56       408\n",
      "\n",
      "    accuracy                           0.81      2000\n",
      "   macro avg       0.71      0.73      0.72      2000\n",
      "weighted avg       0.82      0.81      0.81      2000\n",
      "\n"
     ]
    }
   ],
   "source": [
    "model = DecisionTreeClassifier(random_state=RANDOM_STATE)\n",
    "model.fit(features_upsampled, target_upsampled)\n",
    "predicted_valid = model.predict(features_valid) \n",
    "\n",
    "report = classification_report(target_valid, predicted_valid)\n",
    "print(report)"
   ]
  },
  {
   "cell_type": "code",
   "execution_count": 33,
   "metadata": {},
   "outputs": [
    {
     "name": "stdout",
     "output_type": "stream",
     "text": [
      "0.7269681742043552\n"
     ]
    }
   ],
   "source": [
    "#посчитаем площадь под ROC-кривой\n",
    "probabilities_valid = model.predict_proba(features_valid)\n",
    "probabilities_one_valid = probabilities_valid[:, 1]\n",
    "\n",
    "auc_roc = roc_auc_score(target_valid, probabilities_one_valid)\n",
    "print(auc_roc)"
   ]
  },
  {
   "cell_type": "markdown",
   "metadata": {},
   "source": [
    "Используем новую выборку для обучения алгоритмом случайного леса:"
   ]
  },
  {
   "cell_type": "code",
   "execution_count": 34,
   "metadata": {},
   "outputs": [
    {
     "name": "stdout",
     "output_type": "stream",
     "text": [
      "              precision    recall  f1-score   support\n",
      "\n",
      "           0       0.88      0.95      0.91      1592\n",
      "           1       0.72      0.48      0.57       408\n",
      "\n",
      "    accuracy                           0.85      2000\n",
      "   macro avg       0.80      0.71      0.74      2000\n",
      "weighted avg       0.84      0.85      0.84      2000\n",
      "\n"
     ]
    }
   ],
   "source": [
    "model = RandomForestClassifier(random_state=RANDOM_STATE)\n",
    "model.fit(features_upsampled, target_upsampled)\n",
    "predicted_valid = model.predict(features_valid) \n",
    "\n",
    "report = classification_report(target_valid, predicted_valid)\n",
    "print(report)"
   ]
  },
  {
   "cell_type": "code",
   "execution_count": 35,
   "metadata": {},
   "outputs": [
    {
     "name": "stdout",
     "output_type": "stream",
     "text": [
      "0.8564298206719875\n"
     ]
    }
   ],
   "source": [
    "#посчитаем площадь под ROC-кривой\n",
    "probabilities_valid = model.predict_proba(features_valid)\n",
    "probabilities_one_valid = probabilities_valid[:, 1]\n",
    "\n",
    "auc_roc = roc_auc_score(target_valid, probabilities_one_valid)\n",
    "print(auc_roc)"
   ]
  },
  {
   "cell_type": "markdown",
   "metadata": {},
   "source": [
    "Уменьшим выборку для класса \"0\" техникой downsampling, в качестве коэффициента уменьшения возьмем значение 0,26 (так как отношение между классами равно примерно 0,26):"
   ]
  },
  {
   "cell_type": "code",
   "execution_count": 36,
   "metadata": {},
   "outputs": [],
   "source": [
    "#Уменьшение выборки\n",
    "def downsample(features, target, fraction):\n",
    "    features_zeros = features[target == 0]\n",
    "    features_ones = features[target == 1]\n",
    "    target_zeros = target[target == 0]\n",
    "    target_ones = target[target == 1]\n",
    "\n",
    "    features_downsampled = pd.concat(\n",
    "        [features_zeros.sample(frac=fraction, random_state=RANDOM_STATE)] + [features_ones])\n",
    "    target_downsampled = pd.concat(\n",
    "        [target_zeros.sample(frac=fraction, random_state=RANDOM_STATE)] + [target_ones])\n",
    "    \n",
    "    features_downsampled, target_downsampled = shuffle(\n",
    "        features_downsampled, target_downsampled, random_state=RANDOM_STATE)\n",
    "    \n",
    "    return features_downsampled, target_downsampled\n",
    "\n",
    "features_downsampled, target_downsampled = downsample(features_train, target_train, 0.26)"
   ]
  },
  {
   "cell_type": "markdown",
   "metadata": {},
   "source": [
    "Используем новую выборку для обучения алгоритмом дерева решений:"
   ]
  },
  {
   "cell_type": "code",
   "execution_count": 37,
   "metadata": {},
   "outputs": [
    {
     "name": "stdout",
     "output_type": "stream",
     "text": [
      "              precision    recall  f1-score   support\n",
      "\n",
      "           0       0.91      0.76      0.83      1592\n",
      "           1       0.43      0.71      0.53       408\n",
      "\n",
      "    accuracy                           0.75      2000\n",
      "   macro avg       0.67      0.73      0.68      2000\n",
      "weighted avg       0.81      0.75      0.77      2000\n",
      "\n"
     ]
    }
   ],
   "source": [
    "model = DecisionTreeClassifier(random_state=RANDOM_STATE)\n",
    "model.fit(features_downsampled, target_downsampled)\n",
    "predicted_valid = model.predict(features_valid) \n",
    "\n",
    "report = classification_report(target_valid, predicted_valid)\n",
    "print(report)"
   ]
  },
  {
   "cell_type": "code",
   "execution_count": 38,
   "metadata": {},
   "outputs": [
    {
     "name": "stdout",
     "output_type": "stream",
     "text": [
      "0.7320240910434526\n"
     ]
    }
   ],
   "source": [
    "#посчитаем площадь под ROC-кривой\n",
    "probabilities_valid = model.predict_proba(features_valid)\n",
    "probabilities_one_valid = probabilities_valid[:, 1]\n",
    "\n",
    "auc_roc = roc_auc_score(target_valid, probabilities_one_valid)\n",
    "print(auc_roc)"
   ]
  },
  {
   "cell_type": "markdown",
   "metadata": {},
   "source": [
    "Используем новую выборку для обучения алгоритмом случайного леса:"
   ]
  },
  {
   "cell_type": "code",
   "execution_count": 39,
   "metadata": {},
   "outputs": [
    {
     "name": "stdout",
     "output_type": "stream",
     "text": [
      "              precision    recall  f1-score   support\n",
      "\n",
      "           0       0.93      0.80      0.86      1592\n",
      "           1       0.49      0.77      0.60       408\n",
      "\n",
      "    accuracy                           0.79      2000\n",
      "   macro avg       0.71      0.78      0.73      2000\n",
      "weighted avg       0.84      0.79      0.80      2000\n",
      "\n"
     ]
    }
   ],
   "source": [
    "model = RandomForestClassifier(random_state=RANDOM_STATE)\n",
    "model.fit(features_downsampled, target_downsampled)\n",
    "predicted_valid = model.predict(features_valid) \n",
    "\n",
    "report = classification_report(target_valid, predicted_valid)\n",
    "print(report)"
   ]
  },
  {
   "cell_type": "code",
   "execution_count": 40,
   "metadata": {},
   "outputs": [
    {
     "name": "stdout",
     "output_type": "stream",
     "text": [
      "0.8526132500738989\n"
     ]
    }
   ],
   "source": [
    "#посчитаем площадь под ROC-кривой\n",
    "probabilities_valid = model.predict_proba(features_valid)\n",
    "probabilities_one_valid = probabilities_valid[:, 1]\n",
    "\n",
    "auc_roc = roc_auc_score(target_valid, probabilities_one_valid)\n",
    "print(auc_roc)"
   ]
  },
  {
   "cell_type": "markdown",
   "metadata": {},
   "source": [
    "Подберем лучшие гиперпараметры для модели случайного леса:"
   ]
  },
  {
   "cell_type": "code",
   "execution_count": 41,
   "metadata": {},
   "outputs": [],
   "source": [
    "# best_model = None\n",
    "# best_result = 0.59\n",
    "# best_est = 0\n",
    "# best_depth = 0\n",
    "\n",
    "# for est in range(1, 100):\n",
    "#     for depth in range (1, 30):\n",
    "#         model = RandomForestClassifier(n_estimators=est, max_depth=depth, random_state=RANDOM_STATE)\n",
    "#         model.fit(features_downsampled, target_downsampled)\n",
    "#         predicted_valid = model.predict(features_valid)\n",
    "#         result = f1_score(target_valid, predicted_valid) \n",
    "#         if result > best_result:\n",
    "#             best_model = model\n",
    "#             best_result = result\n",
    "#             best_est = est\n",
    "#             best_depth = depth\n",
    "# print(\"F1 наилучшей модели на валидационной выборке:\", best_result, \"Количество деревьев:\", best_est, \"Максимальная глубина:\", best_depth)"
   ]
  },
  {
   "cell_type": "code",
   "execution_count": 42,
   "metadata": {},
   "outputs": [
    {
     "name": "stdout",
     "output_type": "stream",
     "text": [
      "              precision    recall  f1-score   support\n",
      "\n",
      "           0       0.93      0.80      0.86      1592\n",
      "           1       0.49      0.78      0.60       408\n",
      "\n",
      "    accuracy                           0.79      2000\n",
      "   macro avg       0.71      0.79      0.73      2000\n",
      "weighted avg       0.84      0.79      0.81      2000\n",
      "\n"
     ]
    }
   ],
   "source": [
    "model = RandomForestClassifier(n_estimators=65, max_depth=22, random_state=RANDOM_STATE)\n",
    "model.fit(features_downsampled, target_downsampled)\n",
    "predicted_valid = model.predict(features_valid)\n",
    "report = classification_report(target_valid, predicted_valid)\n",
    "print(report)"
   ]
  },
  {
   "cell_type": "code",
   "execution_count": 43,
   "metadata": {},
   "outputs": [
    {
     "data": {
      "image/png": "[encoded data removed]",
      "text/plain": [
       "<Figure size 432x288 with 1 Axes>"
      ]
     },
     "metadata": {
      "needs_background": "light"
     },
     "output_type": "display_data"
    }
   ],
   "source": [
    "#построим ROC-кривую\n",
    "fpr, tpr, thresholds = roc_curve(target_valid, probabilities_one_valid)\n",
    "\n",
    "plt.figure()\n",
    "\n",
    "\n",
    "plt.plot([0, 1], [0, 1], linestyle='--')\n",
    "\n",
    "plt.plot(fpr, tpr)\n",
    "plt.xlim([0.0, 1.0])\n",
    "plt.ylim([0.0, 1.0])\n",
    "plt.xlabel('Доля FPR')\n",
    "plt.ylabel('Доля TPR')\n",
    "plt.title('ROC-кривая')\n",
    "plt.show() "
   ]
  },
  {
   "cell_type": "markdown",
   "metadata": {},
   "source": [
    "**Выводы:** После уменьшения выборки модель RandomForestClassifier показала хорошие результаты, F1=0.60, Accuracy=0.79, площадь под ROC-кривой AUC-ROC=0.85."
   ]
  },
  {
   "cell_type": "markdown",
   "metadata": {},
   "source": [
    "## Тестирование модели"
   ]
  },
  {
   "cell_type": "code",
   "execution_count": 44,
   "metadata": {},
   "outputs": [
    {
     "name": "stdout",
     "output_type": "stream",
     "text": [
      "              precision    recall  f1-score   support\n",
      "\n",
      "           0       0.89      0.86      0.88      1593\n",
      "           1       0.52      0.60      0.56       407\n",
      "\n",
      "    accuracy                           0.81      2000\n",
      "   macro avg       0.71      0.73      0.72      2000\n",
      "weighted avg       0.82      0.81      0.81      2000\n",
      "\n"
     ]
    }
   ],
   "source": [
    "model = RandomForestClassifier(n_estimators=64, max_depth=27, random_state=RANDOM_STATE, class_weight='balanced')\n",
    "model.fit(features_train, target_train)\n",
    "\n",
    "predicted_test = model.predict(features_test) \n",
    "\n",
    "report = classification_report(target_test, predicted_test)\n",
    "print(report)"
   ]
  },
  {
   "cell_type": "code",
   "execution_count": 45,
   "metadata": {},
   "outputs": [
    {
     "name": "stdout",
     "output_type": "stream",
     "text": [
      "0.8198830571711929\n"
     ]
    }
   ],
   "source": [
    "#посчитаем площадь под ROC-кривой\n",
    "probabilities_test = model.predict_proba(features_test)\n",
    "probabilities_one_test = probabilities_test[:, 1]\n",
    "\n",
    "auc_roc = roc_auc_score(target_test, probabilities_one_test)\n",
    "print(auc_roc)"
   ]
  },
  {
   "cell_type": "markdown",
   "metadata": {},
   "source": [
    "**Выводы:** На тестовой выборке мы получили F1=0.58, Accuracy=0.82."
   ]
  },
  {
   "cell_type": "markdown",
   "metadata": {},
   "source": [
    "**Итоговые выводы:** \n",
    "Целью проекта являлось достижение метрики F1, близкой к 0,59.\n",
    "\n",
    "В ходе проекта были обучены модели по алгоритмам:\n",
    "1. Логистической регрессии\n",
    "2. Дерева решений\n",
    "3. Случайного дерева\n",
    "\n",
    "Обучение модели без учёта дисбаланса не привело к нужным результатам. Максимально достигнутое значение F1-меры 0,55 обеспечила модель дерева решений.\n",
    "\n",
    "Применены методы балансировки:\n",
    "1. Взвешивание классов\n",
    "2. Уменьшение выборки\n",
    "3. Увеличение выборки\n",
    "\n",
    "Обучение модели, учитывая дисбаланс классов, позволило достичь хороший результат F1-меры. Наилучший результат F1=0,62 получено обучением модели с помощью алгоритма случайного дерева с методом взвешивания классов. На тестовой выборке мы получили F1=0.58, Accuracy=0.82."
   ]
  }
 ],
 "metadata": {
  "ExecuteTimeLog": [
   {
    "duration": 4,
    "start_time": "2023-01-25T21:57:57.946Z"
   },
   {
    "duration": 61,
    "start_time": "2023-01-25T21:57:57.955Z"
   },
   {
    "duration": 0,
    "start_time": "2023-01-25T21:57:58.019Z"
   },
   {
    "duration": 0,
    "start_time": "2023-01-25T21:57:58.020Z"
   },
   {
    "duration": 0,
    "start_time": "2023-01-25T21:57:58.021Z"
   },
   {
    "duration": 0,
    "start_time": "2023-01-25T21:57:58.022Z"
   },
   {
    "duration": 0,
    "start_time": "2023-01-25T21:57:58.023Z"
   },
   {
    "duration": 0,
    "start_time": "2023-01-25T21:57:58.024Z"
   },
   {
    "duration": 0,
    "start_time": "2023-01-25T21:57:58.025Z"
   },
   {
    "duration": 0,
    "start_time": "2023-01-25T21:57:58.026Z"
   },
   {
    "duration": 0,
    "start_time": "2023-01-25T21:57:58.028Z"
   },
   {
    "duration": 0,
    "start_time": "2023-01-25T21:57:58.029Z"
   },
   {
    "duration": 0,
    "start_time": "2023-01-25T21:57:58.030Z"
   },
   {
    "duration": 0,
    "start_time": "2023-01-25T21:57:58.031Z"
   },
   {
    "duration": 829,
    "start_time": "2023-01-25T21:57:58.033Z"
   },
   {
    "duration": 34,
    "start_time": "2023-01-25T21:57:58.864Z"
   },
   {
    "duration": 542,
    "start_time": "2023-01-25T21:57:58.900Z"
   },
   {
    "duration": 37,
    "start_time": "2023-01-25T21:57:59.445Z"
   },
   {
    "duration": 3,
    "start_time": "2023-01-25T21:57:59.483Z"
   },
   {
    "duration": 443,
    "start_time": "2023-01-25T21:57:59.487Z"
   },
   {
    "duration": 7269,
    "start_time": "2023-01-25T21:57:59.931Z"
   },
   {
    "duration": 161,
    "start_time": "2023-01-25T21:58:07.201Z"
   },
   {
    "duration": 7209,
    "start_time": "2023-01-25T21:58:07.364Z"
   },
   {
    "duration": 158,
    "start_time": "2023-01-25T21:58:14.574Z"
   },
   {
    "duration": 5,
    "start_time": "2023-01-25T21:58:14.734Z"
   },
   {
    "duration": 1817,
    "start_time": "2023-01-25T21:58:14.742Z"
   },
   {
    "duration": 5,
    "start_time": "2023-01-25T21:58:16.561Z"
   },
   {
    "duration": 98,
    "start_time": "2023-01-25T21:58:16.568Z"
   },
   {
    "duration": 100,
    "start_time": "2023-01-25T21:58:16.668Z"
   },
   {
    "duration": 671,
    "start_time": "2023-01-25T21:58:16.770Z"
   },
   {
    "duration": 197,
    "start_time": "2023-01-25T21:58:17.443Z"
   },
   {
    "duration": 914,
    "start_time": "2023-01-25T21:58:17.643Z"
   },
   {
    "duration": 36,
    "start_time": "2023-01-25T21:58:18.559Z"
   },
   {
    "duration": 4,
    "start_time": "2023-01-25T21:58:37.237Z"
   },
   {
    "duration": 69,
    "start_time": "2023-01-25T21:58:37.243Z"
   },
   {
    "duration": 14,
    "start_time": "2023-01-25T21:58:37.314Z"
   },
   {
    "duration": 27,
    "start_time": "2023-01-25T21:58:37.330Z"
   },
   {
    "duration": 13,
    "start_time": "2023-01-25T21:58:37.359Z"
   },
   {
    "duration": 43,
    "start_time": "2023-01-25T21:58:37.374Z"
   },
   {
    "duration": 348,
    "start_time": "2023-01-25T21:58:37.419Z"
   },
   {
    "duration": 3,
    "start_time": "2023-01-25T21:58:37.768Z"
   },
   {
    "duration": 11,
    "start_time": "2023-01-25T21:58:37.772Z"
   },
   {
    "duration": 46,
    "start_time": "2023-01-25T21:58:37.784Z"
   },
   {
    "duration": 508,
    "start_time": "2023-01-25T21:58:37.832Z"
   },
   {
    "duration": 196,
    "start_time": "2023-01-25T21:58:38.342Z"
   },
   {
    "duration": 605,
    "start_time": "2023-01-25T21:58:38.544Z"
   },
   {
    "duration": 36,
    "start_time": "2023-01-25T21:58:39.238Z"
   },
   {
    "duration": 866,
    "start_time": "2023-01-25T21:58:39.338Z"
   },
   {
    "duration": 41,
    "start_time": "2023-01-25T21:58:40.206Z"
   },
   {
    "duration": 544,
    "start_time": "2023-01-25T21:58:40.249Z"
   },
   {
    "duration": 46,
    "start_time": "2023-01-25T21:58:40.795Z"
   },
   {
    "duration": 3,
    "start_time": "2023-01-25T21:58:40.842Z"
   },
   {
    "duration": 433,
    "start_time": "2023-01-25T21:58:40.846Z"
   },
   {
    "duration": 7370,
    "start_time": "2023-01-25T21:58:41.281Z"
   },
   {
    "duration": 167,
    "start_time": "2023-01-25T21:58:48.652Z"
   },
   {
    "duration": 7227,
    "start_time": "2023-01-25T21:58:48.821Z"
   },
   {
    "duration": 156,
    "start_time": "2023-01-25T21:58:56.050Z"
   },
   {
    "duration": 3,
    "start_time": "2023-01-25T21:58:56.238Z"
   },
   {
    "duration": 1827,
    "start_time": "2023-01-25T21:58:56.242Z"
   },
   {
    "duration": 6,
    "start_time": "2023-01-25T21:58:58.072Z"
   },
   {
    "duration": 114,
    "start_time": "2023-01-25T21:58:58.080Z"
   },
   {
    "duration": 117,
    "start_time": "2023-01-25T21:58:58.197Z"
   },
   {
    "duration": 630,
    "start_time": "2023-01-25T21:58:58.316Z"
   },
   {
    "duration": 191,
    "start_time": "2023-01-25T21:58:58.948Z"
   },
   {
    "duration": 872,
    "start_time": "2023-01-25T21:58:59.141Z"
   },
   {
    "duration": 38,
    "start_time": "2023-01-25T21:59:00.015Z"
   },
   {
    "duration": 11881,
    "start_time": "2023-01-25T21:59:00.055Z"
   },
   {
    "duration": 170,
    "start_time": "2023-01-25T21:59:11.938Z"
   },
   {
    "duration": 71,
    "start_time": "2023-01-25T21:59:12.110Z"
   },
   {
    "duration": 191,
    "start_time": "2023-01-25T21:59:12.183Z"
   },
   {
    "duration": 45,
    "start_time": "2023-01-25T21:59:12.377Z"
   },
   {
    "duration": 2625,
    "start_time": "2023-01-25T21:59:12.424Z"
   },
   {
    "duration": 141,
    "start_time": "2023-01-25T21:59:15.051Z"
   },
   {
    "duration": 3,
    "start_time": "2023-01-25T21:59:15.194Z"
   },
   {
    "duration": 706,
    "start_time": "2023-01-25T21:59:15.198Z"
   },
   {
    "duration": 116,
    "start_time": "2023-01-25T21:59:15.907Z"
   },
   {
    "duration": 1797,
    "start_time": "2023-01-25T21:59:16.025Z"
   },
   {
    "duration": 77,
    "start_time": "2023-01-25T21:59:17.823Z"
   },
   {
    "duration": 4,
    "start_time": "2023-01-25T22:02:58.272Z"
   },
   {
    "duration": 53,
    "start_time": "2023-01-25T22:02:58.277Z"
   },
   {
    "duration": 11,
    "start_time": "2023-01-25T22:02:58.332Z"
   },
   {
    "duration": 23,
    "start_time": "2023-01-25T22:02:58.345Z"
   },
   {
    "duration": 12,
    "start_time": "2023-01-25T22:02:58.369Z"
   },
   {
    "duration": 69,
    "start_time": "2023-01-25T22:02:58.382Z"
   },
   {
    "duration": 309,
    "start_time": "2023-01-25T22:02:58.453Z"
   },
   {
    "duration": 3,
    "start_time": "2023-01-25T22:02:58.763Z"
   },
   {
    "duration": 6,
    "start_time": "2023-01-25T22:02:58.767Z"
   },
   {
    "duration": 37,
    "start_time": "2023-01-25T22:02:58.775Z"
   },
   {
    "duration": 531,
    "start_time": "2023-01-25T22:02:58.815Z"
   },
   {
    "duration": 191,
    "start_time": "2023-01-25T22:02:59.348Z"
   },
   {
    "duration": 599,
    "start_time": "2023-01-25T22:02:59.541Z"
   },
   {
    "duration": 197,
    "start_time": "2023-01-25T22:03:00.143Z"
   },
   {
    "duration": 834,
    "start_time": "2023-01-25T22:03:00.345Z"
   },
   {
    "duration": 47,
    "start_time": "2023-01-25T22:03:01.181Z"
   },
   {
    "duration": 515,
    "start_time": "2023-01-25T22:03:01.237Z"
   },
   {
    "duration": 44,
    "start_time": "2023-01-25T22:03:01.754Z"
   },
   {
    "duration": 6,
    "start_time": "2023-01-25T22:03:01.800Z"
   },
   {
    "duration": 413,
    "start_time": "2023-01-25T22:03:01.807Z"
   },
   {
    "duration": 6935,
    "start_time": "2023-01-25T22:03:02.222Z"
   },
   {
    "duration": 180,
    "start_time": "2023-01-25T22:03:09.158Z"
   },
   {
    "duration": 6913,
    "start_time": "2023-01-25T22:03:09.340Z"
   },
   {
    "duration": 156,
    "start_time": "2023-01-25T22:03:16.255Z"
   },
   {
    "duration": 3,
    "start_time": "2023-01-25T22:03:16.412Z"
   },
   {
    "duration": 1857,
    "start_time": "2023-01-25T22:03:16.417Z"
   },
   {
    "duration": 6,
    "start_time": "2023-01-25T22:03:18.276Z"
   },
   {
    "duration": 98,
    "start_time": "2023-01-25T22:03:18.284Z"
   },
   {
    "duration": 112,
    "start_time": "2023-01-25T22:03:18.387Z"
   },
   {
    "duration": 738,
    "start_time": "2023-01-25T22:03:18.501Z"
   },
   {
    "duration": 199,
    "start_time": "2023-01-25T22:03:19.241Z"
   },
   {
    "duration": 951,
    "start_time": "2023-01-25T22:03:19.442Z"
   },
   {
    "duration": 58,
    "start_time": "2023-01-25T22:03:20.395Z"
   },
   {
    "duration": 11571,
    "start_time": "2023-01-25T22:03:20.456Z"
   },
   {
    "duration": 168,
    "start_time": "2023-01-25T22:03:32.029Z"
   },
   {
    "duration": 62,
    "start_time": "2023-01-25T22:03:32.199Z"
   },
   {
    "duration": 204,
    "start_time": "2023-01-25T22:03:32.263Z"
   },
   {
    "duration": 53,
    "start_time": "2023-01-25T22:03:32.470Z"
   },
   {
    "duration": 2396,
    "start_time": "2023-01-25T22:03:32.537Z"
   },
   {
    "duration": 147,
    "start_time": "2023-01-25T22:03:34.938Z"
   },
   {
    "duration": 3,
    "start_time": "2023-01-25T22:03:35.087Z"
   },
   {
    "duration": 690,
    "start_time": "2023-01-25T22:03:35.092Z"
   },
   {
    "duration": 122,
    "start_time": "2023-01-25T22:03:35.783Z"
   },
   {
    "duration": 1912,
    "start_time": "2023-01-25T22:03:35.907Z"
   },
   {
    "duration": 86,
    "start_time": "2023-01-25T22:03:37.820Z"
   },
   {
    "duration": 1560,
    "start_time": "2023-01-26T11:29:48.069Z"
   },
   {
    "duration": 83,
    "start_time": "2023-01-26T11:29:49.631Z"
   },
   {
    "duration": 12,
    "start_time": "2023-01-26T11:29:49.715Z"
   },
   {
    "duration": 19,
    "start_time": "2023-01-26T11:29:49.728Z"
   },
   {
    "duration": 16,
    "start_time": "2023-01-26T11:29:49.748Z"
   },
   {
    "duration": 34,
    "start_time": "2023-01-26T11:29:49.766Z"
   },
   {
    "duration": 343,
    "start_time": "2023-01-26T11:29:49.802Z"
   },
   {
    "duration": 3,
    "start_time": "2023-01-26T11:29:50.146Z"
   },
   {
    "duration": 8,
    "start_time": "2023-01-26T11:29:50.150Z"
   },
   {
    "duration": 27,
    "start_time": "2023-01-26T11:29:50.160Z"
   },
   {
    "duration": 453,
    "start_time": "2023-01-26T11:29:50.188Z"
   },
   {
    "duration": 122,
    "start_time": "2023-01-26T11:29:50.643Z"
   },
   {
    "duration": 504,
    "start_time": "2023-01-26T11:29:50.837Z"
   },
   {
    "duration": 193,
    "start_time": "2023-01-26T11:29:51.345Z"
   },
   {
    "duration": 791,
    "start_time": "2023-01-26T11:29:51.540Z"
   },
   {
    "duration": 49,
    "start_time": "2023-01-26T11:29:52.332Z"
   },
   {
    "duration": 521,
    "start_time": "2023-01-26T11:29:52.382Z"
   },
   {
    "duration": 47,
    "start_time": "2023-01-26T11:29:52.904Z"
   },
   {
    "duration": 2,
    "start_time": "2023-01-26T11:29:52.953Z"
   },
   {
    "duration": 387,
    "start_time": "2023-01-26T11:29:52.957Z"
   },
   {
    "duration": 6452,
    "start_time": "2023-01-26T11:29:53.346Z"
   },
   {
    "duration": 154,
    "start_time": "2023-01-26T11:29:59.799Z"
   },
   {
    "duration": 6677,
    "start_time": "2023-01-26T11:29:59.954Z"
   },
   {
    "duration": 146,
    "start_time": "2023-01-26T11:30:06.632Z"
   },
   {
    "duration": 2,
    "start_time": "2023-01-26T11:30:06.780Z"
   },
   {
    "duration": 1626,
    "start_time": "2023-01-26T11:30:06.783Z"
   },
   {
    "duration": 5,
    "start_time": "2023-01-26T11:30:08.411Z"
   },
   {
    "duration": 98,
    "start_time": "2023-01-26T11:30:08.418Z"
   },
   {
    "duration": 105,
    "start_time": "2023-01-26T11:30:08.517Z"
   },
   {
    "duration": 614,
    "start_time": "2023-01-26T11:30:08.624Z"
   },
   {
    "duration": 196,
    "start_time": "2023-01-26T11:30:09.240Z"
   },
   {
    "duration": 817,
    "start_time": "2023-01-26T11:30:09.444Z"
   },
   {
    "duration": 41,
    "start_time": "2023-01-26T11:30:10.263Z"
   },
   {
    "duration": 10727,
    "start_time": "2023-01-26T11:30:10.305Z"
   },
   {
    "duration": 171,
    "start_time": "2023-01-26T11:30:21.034Z"
   },
   {
    "duration": 68,
    "start_time": "2023-01-26T11:30:21.207Z"
   },
   {
    "duration": 203,
    "start_time": "2023-01-26T11:30:21.276Z"
   },
   {
    "duration": 43,
    "start_time": "2023-01-26T11:30:21.481Z"
   },
   {
    "duration": 2367,
    "start_time": "2023-01-26T11:30:21.526Z"
   },
   {
    "duration": 133,
    "start_time": "2023-01-26T11:30:23.895Z"
   },
   {
    "duration": 7,
    "start_time": "2023-01-26T11:30:24.030Z"
   },
   {
    "duration": 603,
    "start_time": "2023-01-26T11:30:24.039Z"
   },
   {
    "duration": 111,
    "start_time": "2023-01-26T11:30:24.644Z"
   },
   {
    "duration": 1680,
    "start_time": "2023-01-26T11:30:24.757Z"
   },
   {
    "duration": 83,
    "start_time": "2023-01-26T11:30:26.438Z"
   },
   {
    "duration": 5,
    "start_time": "2023-01-26T11:32:00.999Z"
   }
  ],
  "kernelspec": {
   "display_name": "Python 3 (ipykernel)",
   "language": "python",
   "name": "python3"
  },
  "language_info": {
   "codemirror_mode": {
    "name": "ipython",
    "version": 3
   },
   "file_extension": ".py",
   "mimetype": "text/x-python",
   "name": "python",
   "nbconvert_exporter": "python",
   "pygments_lexer": "ipython3",
   "version": "3.9.15"
  },
  "toc": {
   "base_numbering": 1,
   "nav_menu": {},
   "number_sections": true,
   "sideBar": true,
   "skip_h1_title": true,
   "title_cell": "Содержание",
   "title_sidebar": "Contents",
   "toc_cell": true,
   "toc_position": {},
   "toc_section_display": true,
   "toc_window_display": true
  }
 },
 "nbformat": 4,
 "nbformat_minor": 2
}
